{
 "cells": [
  {
   "cell_type": "code",
   "execution_count": 1,
   "id": "95b587c8",
   "metadata": {},
   "outputs": [],
   "source": [
    "import meshio\n",
    "import numpy as np\n",
    "from enum import Enum\n",
    "from scipy.spatial.transform import Rotation as R"
   ]
  },
  {
   "cell_type": "code",
   "execution_count": 2,
   "id": "8088c422",
   "metadata": {},
   "outputs": [],
   "source": [
    "class Face(Enum):\n",
    "    XMinus = 0\n",
    "    XPlus = 1\n",
    "    YMinus = 2\n",
    "    YPlus = 3\n",
    "    ZMinus = 4\n",
    "    ZPlus = 5\n",
    "\n",
    "face = Enum('Face', ['XMinus', 'XPlus', 'YMinus', 'YPlus','ZMinus','ZPlus'])"
   ]
  },
  {
   "cell_type": "code",
   "execution_count": 3,
   "id": "022059bc",
   "metadata": {},
   "outputs": [],
   "source": [
    "def faceHanging(start, faceID , h = 1.):\n",
    "    midPoint = start + h/2.\n",
    "    pyramid1 = np.array([\n",
    "        [start[0],start[1],start[2]],\n",
    "        [start[0],start[1]+h/2.,start[2]],\n",
    "        [start[0],start[1]+h/2.,start[2]+h/2.],\n",
    "        [start[0],start[1],start[2]+h/2.],\n",
    "        [midPoint[0] + 0, midPoint[1] + 0, midPoint[2] + 0],\n",
    "        ])\n",
    "    pyramid2 = np.array([\n",
    "        [start[0],start[1]+h/2.,start[2]],\n",
    "        [start[0],start[1]+h,start[2]],\n",
    "        [start[0],start[1]+h,start[2]+h/2.],\n",
    "        [start[0],start[1]+h/2.,start[2]+h/2.],\n",
    "        [midPoint[0] + 0, midPoint[1] + 0, midPoint[2] + 0],\n",
    "        ])\n",
    "    pyramid3 = np.array([\n",
    "        [start[0],start[1],start[2]+h/2.],\n",
    "        [start[0],start[1]+h/2.,start[2]+h/2.],\n",
    "        [start[0],start[1]+h/2.,start[2]+h],\n",
    "        [start[0],start[1],start[2]+h],\n",
    "        [midPoint[0] + 0, midPoint[1] + 0, midPoint[2] + 0],\n",
    "        ])\n",
    "    pyramid4 = np.array([\n",
    "        [start[0],start[1]+h/2.,start[2] + h/2.],\n",
    "        [start[0],start[1]+h,start[2]+h/2.],\n",
    "        [start[0],start[1]+h,start[2]+h],\n",
    "        [start[0],start[1]+h/2.,start[2]+h],\n",
    "        [midPoint[0] + 0, midPoint[1] + 0, midPoint[2] + 0],\n",
    "\n",
    "        ])\n",
    "\n",
    "    return [pyramid1,pyramid2,pyramid3,pyramid4]"
   ]
  },
  {
   "cell_type": "code",
   "execution_count": 4,
   "id": "8f07c783",
   "metadata": {},
   "outputs": [],
   "source": [
    "pyramids = faceHanging(start = np.array([0,0,0]),faceID=0)"
   ]
  },
  {
   "cell_type": "code",
   "execution_count": 5,
   "id": "ee8251b5",
   "metadata": {},
   "outputs": [],
   "source": [
    "points = []\n",
    "for pyramid in pyramids:\n",
    "    for p in pyramid:\n",
    "        points.append(p)\n",
    "        \n",
    "arr = np.array((0,1,2,3,4))\n",
    "cells = []\n",
    "for i in range(len(pyramids)):\n",
    "    cells.append(tuple([\"pyramid\",[list(arr+i*5)]]))"
   ]
  },
  {
   "cell_type": "code",
   "execution_count": 6,
   "id": "ff87923b",
   "metadata": {},
   "outputs": [],
   "source": [
    "meshio.write_points_cells(\"faceHanging.vtu\",points,cells)"
   ]
  },
  {
   "cell_type": "code",
   "execution_count": 7,
   "id": "f370d47a",
   "metadata": {},
   "outputs": [],
   "source": [
    "def oneEdgeHanging(start, faceID , h = 1.):\n",
    "    midPoint = start + h/2.\n",
    "    tet1 = np.array([\n",
    "        [start[0],start[1],start[2]],\n",
    "        [start[0],start[1]+h,start[2]],\n",
    "        [start[0],start[1],start[2]+h/2.],\n",
    "        [midPoint[0], midPoint[1], midPoint[2]],\n",
    "        ])\n",
    "    \n",
    "    tet2 = np.array([\n",
    "        [start[0],start[1],start[2]+h/2.],\n",
    "        [start[0],start[1],start[2]+h],\n",
    "        [start[0],start[1]+h,start[2]+h],\n",
    "        [midPoint[0], midPoint[1], midPoint[2]],\n",
    "        ])\n",
    "    \n",
    "    tet3 = np.array([\n",
    "        [start[0],start[1],start[2]+h/2.],\n",
    "        [start[0],start[1]+h,start[2]],\n",
    "        [start[0],start[1]+h,start[2]+h],\n",
    "        [midPoint[0], midPoint[1], midPoint[2]],\n",
    "        ])\n",
    "    return [tet1,tet2,tet3]"
   ]
  },
  {
   "cell_type": "code",
   "execution_count": 8,
   "id": "e3d092c0",
   "metadata": {},
   "outputs": [],
   "source": [
    "tets = oneEdgeHanging(start = np.array([0,0,0]),faceID=0)"
   ]
  },
  {
   "cell_type": "code",
   "execution_count": 9,
   "id": "3afc7597",
   "metadata": {},
   "outputs": [],
   "source": [
    "points = []\n",
    "for tet in tets:\n",
    "    for p in tet:\n",
    "        points.append(p)\n",
    "        \n",
    "arr = np.array((0,1,2,3))\n",
    "cells = []\n",
    "for i in range(len(tets)):\n",
    "    cells.append(tuple([\"tetra\",[list(arr+i*4)]]))"
   ]
  },
  {
   "cell_type": "code",
   "execution_count": 10,
   "id": "476c611d",
   "metadata": {},
   "outputs": [],
   "source": [
    "meshio.write_points_cells(\"oneEdgeHanging.vtu\",points,cells)"
   ]
  },
  {
   "cell_type": "code",
   "execution_count": 11,
   "id": "b2d466af",
   "metadata": {},
   "outputs": [],
   "source": [
    "def twoContinuousEdgeHanging(start, faceID , h = 1.):\n",
    "    midPoint = start + h/2.\n",
    "    tet1 = np.array([\n",
    "        [start[0],start[1],start[2]],\n",
    "        [start[0],start[1]+h,start[2]],\n",
    "        [start[0],start[1],start[2]+h/2.],\n",
    "        [midPoint[0], midPoint[1], midPoint[2]],\n",
    "        ])\n",
    "    tet2 = np.array([\n",
    "        [start[0],start[1],start[2]+h/2.],\n",
    "        [start[0],start[1],start[2]+h],\n",
    "        [start[0],start[1]+h/2,start[2]+h],\n",
    "        [midPoint[0], midPoint[1], midPoint[2]],\n",
    "        ])\n",
    "    \n",
    "    tet3 = np.array([\n",
    "        [start[0],start[1],start[2]+h/2.],\n",
    "        [start[0],start[1]+h/2.,start[2]+h],\n",
    "        [start[0],start[1],start[2]+h],\n",
    "        [midPoint[0], midPoint[1], midPoint[2]],\n",
    "        ])\n",
    "    tet4 = np.array([\n",
    "        [start[0],start[1]+h,start[2]],\n",
    "        [start[0],start[1]+h/2.,start[2]+h],\n",
    "        [start[0],start[1]+h,start[2]+h],\n",
    "        [midPoint[0], midPoint[1], midPoint[2]],\n",
    "        ])\n",
    "    \n",
    "    return [tet1,tet2,tet3,tet4]\n",
    "    \n",
    "\n"
   ]
  },
  {
   "cell_type": "code",
   "execution_count": 12,
   "id": "a5ec3d88",
   "metadata": {},
   "outputs": [],
   "source": [
    "tets = twoContinuousEdgeHanging(start = np.array([0,0,0]),faceID=0)"
   ]
  },
  {
   "cell_type": "code",
   "execution_count": 13,
   "id": "883e0615",
   "metadata": {},
   "outputs": [],
   "source": [
    "points = []\n",
    "for tet in tets:\n",
    "    for p in tet:\n",
    "        points.append(p)\n",
    "        \n",
    "arr = np.array((0,1,2,3))\n",
    "cells = []\n",
    "for i in range(len(tets)):\n",
    "    cells.append(tuple([\"tetra\",[list(arr+i*4)]]))"
   ]
  },
  {
   "cell_type": "code",
   "execution_count": 14,
   "id": "3d9b2817",
   "metadata": {},
   "outputs": [],
   "source": [
    "meshio.write_points_cells(\"twoContinuousEdgeHanging.vtu\",points,cells)"
   ]
  },
  {
   "cell_type": "code",
   "execution_count": 15,
   "id": "7b5a44d1",
   "metadata": {},
   "outputs": [],
   "source": [
    "def twoStridedEdgeHanging(start, faceID , h = 1.):\n",
    "    midPoint = start + h/2.\n",
    "    \n",
    "    pyramid1 = np.array([\n",
    "        [start[0],start[1],start[2]],\n",
    "        [start[0],start[1]+h,start[2]],\n",
    "        [start[0],start[1]+h,start[2]+h/2],\n",
    "        [start[0],start[1],start[2]+h/2.],\n",
    "        [midPoint[0] + 0, midPoint[1] + 0, midPoint[2] + 0],\n",
    "        ])\n",
    "    \n",
    "    pyramid2 = np.array([\n",
    "        [start[0],start[1],start[2]+h/2],\n",
    "        [start[0],start[1]+h,start[2]+h/2],\n",
    "        [start[0],start[1]+h,start[2]+h],\n",
    "        [start[0],start[1],start[2]+h],\n",
    "        [midPoint[0] + 0, midPoint[1] + 0, midPoint[2] + 0],\n",
    "        ])\n",
    "    \n",
    "    return [pyramid1,pyramid2]"
   ]
  },
  {
   "cell_type": "code",
   "execution_count": 16,
   "id": "8b1ca8fd",
   "metadata": {},
   "outputs": [],
   "source": [
    "pyramids = twoStridedEdgeHanging(start = np.array([0,0,0]),faceID=0)"
   ]
  },
  {
   "cell_type": "code",
   "execution_count": 17,
   "id": "40b137c0",
   "metadata": {},
   "outputs": [],
   "source": [
    "points = []\n",
    "for pyramid in pyramids:\n",
    "    for p in pyramid:\n",
    "        points.append(p)\n",
    "        \n",
    "arr = np.array((0,1,2,3,4))\n",
    "cells = []\n",
    "for i in range(len(pyramids)):\n",
    "    cells.append(tuple([\"pyramid\",[list(arr+i*5)]]))"
   ]
  },
  {
   "cell_type": "code",
   "execution_count": 18,
   "id": "c776c782",
   "metadata": {},
   "outputs": [],
   "source": [
    "meshio.write_points_cells(\"twoStridedEdgeHanging.vtu\",points,cells)"
   ]
  },
  {
   "cell_type": "code",
   "execution_count": 19,
   "id": "6d65b065",
   "metadata": {},
   "outputs": [],
   "source": [
    "def threeEdgehanging(start, faceID , h = 1.):\n",
    "    midPoint = start + h/2.\n",
    "    pyramid1 = np.array([\n",
    "        [start[0],start[1],start[2]],\n",
    "        [start[0],start[1]+h,start[2]],\n",
    "        [start[0],start[1]+h,start[2]+h/2],\n",
    "        [start[0],start[1],start[2]+h/2.],\n",
    "        [midPoint[0] + 0, midPoint[1] + 0, midPoint[2] + 0],\n",
    "        ])\n",
    "    tet1 = np.array([\n",
    "        [start[0],start[1],start[2]+h/2.],\n",
    "        [start[0],start[1],start[2]+h],\n",
    "        [start[0],start[1]+h/2,start[2]+h],\n",
    "        [midPoint[0], midPoint[1], midPoint[2]],\n",
    "        ])\n",
    "    \n",
    "    tet2 = np.array([\n",
    "        [start[0],start[1],start[2]+h/2.],\n",
    "        [start[0],start[1]+h/2.,start[2]+h],\n",
    "        [start[0],start[1]+h,start[2]+h/2.],\n",
    "        [midPoint[0], midPoint[1], midPoint[2]],\n",
    "        ])\n",
    "    tet3 = np.array([\n",
    "        [start[0],start[1]+h,start[2]+h/2.],\n",
    "        [start[0],start[1]+h/2.,start[2]+h],\n",
    "        [start[0],start[1]+h,start[2]+h],\n",
    "        [midPoint[0], midPoint[1], midPoint[2]],\n",
    "        ])\n",
    "    return [pyramid1],[tet1,tet2,tet3]"
   ]
  },
  {
   "cell_type": "code",
   "execution_count": 20,
   "id": "8223d5f7",
   "metadata": {},
   "outputs": [],
   "source": [
    "pyramids,tets = threeEdgehanging(start = np.array([0,0,0]),faceID=0)"
   ]
  },
  {
   "cell_type": "code",
   "execution_count": 21,
   "id": "68910e81",
   "metadata": {},
   "outputs": [],
   "source": [
    "points = []\n",
    "for pyramid in pyramids:\n",
    "    for p in pyramid:\n",
    "        points.append(p)\n",
    "\n",
    "for tet in tets:\n",
    "    for p in tet:\n",
    "        points.append(p)\n",
    "        \n",
    "arr = np.array((0,1,2,3,4))\n",
    "cells = []\n",
    "for i in range(len(pyramids)):\n",
    "    cells.append(tuple([\"pyramid\",[list(arr+i*5)]]))\n",
    "\n",
    "arr = np.array((0,1,2,3))\n",
    "for i in range(len(tets)):\n",
    "    cells.append(tuple([\"tetra\",[list(arr+i*4 + 5)]]))\n",
    "    "
   ]
  },
  {
   "cell_type": "code",
   "execution_count": 22,
   "id": "b5458087",
   "metadata": {},
   "outputs": [
    {
     "data": {
      "text/plain": [
       "[('pyramid', [[0, 1, 2, 3, 4]]),\n",
       " ('tetra', [[5, 6, 7, 8]]),\n",
       " ('tetra', [[9, 10, 11, 12]]),\n",
       " ('tetra', [[13, 14, 15, 16]])]"
      ]
     },
     "execution_count": 22,
     "metadata": {},
     "output_type": "execute_result"
    }
   ],
   "source": [
    "cells"
   ]
  },
  {
   "cell_type": "code",
   "execution_count": 23,
   "id": "0600a97e",
   "metadata": {},
   "outputs": [],
   "source": [
    "meshio.write_points_cells(\"threeEdgeHanging.vtu\",points,cells)"
   ]
  },
  {
   "cell_type": "code",
   "execution_count": 24,
   "id": "6ff42a25",
   "metadata": {},
   "outputs": [],
   "source": [
    "def noHanging(start, faceID , h = 1.):\n",
    "    midPoint = start + h/2.\n",
    "    pyramid1 = np.array([\n",
    "        [start[0],start[1],start[2]],\n",
    "        [start[0],start[1]+h,start[2]],\n",
    "        [start[0],start[1]+h,start[2]+h],\n",
    "        [start[0],start[1],start[2]+h],\n",
    "        [midPoint[0] + 0, midPoint[1] + 0, midPoint[2] + 0],\n",
    "        ])\n",
    "    return [pyramid1]"
   ]
  },
  {
   "cell_type": "code",
   "execution_count": 25,
   "id": "34e4e726",
   "metadata": {},
   "outputs": [],
   "source": [
    "pyramids = noHanging(start = np.array([0,0,0]),faceID=0)"
   ]
  },
  {
   "cell_type": "code",
   "execution_count": 26,
   "id": "c299f5be",
   "metadata": {},
   "outputs": [
    {
     "ename": "NameError",
     "evalue": "name 'r' is not defined",
     "output_type": "error",
     "traceback": [
      "\u001b[0;31m---------------------------------------------------------------------------\u001b[0m",
      "\u001b[0;31mNameError\u001b[0m                                 Traceback (most recent call last)",
      "Cell \u001b[0;32mIn[26], line 4\u001b[0m\n\u001b[1;32m      2\u001b[0m \u001b[38;5;28;01mfor\u001b[39;00m pyramid \u001b[38;5;129;01min\u001b[39;00m pyramids:\n\u001b[1;32m      3\u001b[0m     \u001b[38;5;28;01mfor\u001b[39;00m p \u001b[38;5;129;01min\u001b[39;00m pyramid:\n\u001b[0;32m----> 4\u001b[0m         points\u001b[38;5;241m.\u001b[39mappend(\u001b[43mr\u001b[49m\u001b[38;5;241m.\u001b[39mapply(p \u001b[38;5;241m-\u001b[39m np\u001b[38;5;241m.\u001b[39marray([\u001b[38;5;241m0.5\u001b[39m,\u001b[38;5;241m0.5\u001b[39m,\u001b[38;5;241m0.5\u001b[39m])) \u001b[38;5;241m+\u001b[39m np\u001b[38;5;241m.\u001b[39marray([\u001b[38;5;241m0.5\u001b[39m,\u001b[38;5;241m0.5\u001b[39m,\u001b[38;5;241m0.5\u001b[39m]))\n\u001b[1;32m      5\u001b[0m arr \u001b[38;5;241m=\u001b[39m np\u001b[38;5;241m.\u001b[39marray((\u001b[38;5;241m0\u001b[39m,\u001b[38;5;241m1\u001b[39m,\u001b[38;5;241m2\u001b[39m,\u001b[38;5;241m3\u001b[39m,\u001b[38;5;241m4\u001b[39m))\n\u001b[1;32m      6\u001b[0m cells \u001b[38;5;241m=\u001b[39m []\n",
      "\u001b[0;31mNameError\u001b[0m: name 'r' is not defined"
     ]
    }
   ],
   "source": [
    "points = []\n",
    "for pyramid in pyramids:\n",
    "    for p in pyramid:\n",
    "        points.append(r.apply(p - np.array([0.5,0.5,0.5])) + np.array([0.5,0.5,0.5]))\n",
    "arr = np.array((0,1,2,3,4))\n",
    "cells = []\n",
    "for i in range(len(pyramids)):\n",
    "    cells.append(tuple([\"pyramid\",[list(arr+i*5)]]))"
   ]
  },
  {
   "cell_type": "code",
   "execution_count": 207,
   "id": "45df2c50",
   "metadata": {},
   "outputs": [],
   "source": [
    "meshio.write_points_cells(\"noHanging.vtu\",points,cells)"
   ]
  },
  {
   "cell_type": "code",
   "execution_count": 210,
   "id": "9dc2b08a",
   "metadata": {},
   "outputs": [],
   "source": [
    "def appendPointsAndCellToList(points,cellType,pointList,cellList,rotMatrix):\n",
    "    mid = np.array([0.5,0.5,0.5])\n",
    "    slen = len(pointList)\n",
    "    for shape in points:\n",
    "        for p in shape:\n",
    "            pointList.append(rotMatrix.apply(p - mid) + mid)\n",
    "    \n",
    "\n",
    "    if(cellType == \"pyramid\"):\n",
    "        arr = np.array((0,1,2,3,4))\n",
    "        for i in range(len(points)):\n",
    "            cellList.append(tuple([\"pyramid\",[list(arr+i*5 + slen) ]]))\n",
    "    else:\n",
    "        arr = np.array((0,1,2,3))\n",
    "        for i in range(len(points)):\n",
    "            cellList.append(tuple([\"pyramid\",[list(arr+i*4 + slen)]]))"
   ]
  },
  {
   "cell_type": "raw",
   "id": "4bd75452",
   "metadata": {},
   "source": [
    "points"
   ]
  },
  {
   "cell_type": "code",
   "execution_count": 228,
   "id": "ed771f35",
   "metadata": {},
   "outputs": [],
   "source": [
    "pyramids = faceHanging(start = np.array([0,0,0]),faceID=0)\n",
    "points = []\n",
    "cells = []\n",
    "r = R.from_euler('y', 0, degrees=True)\n",
    "appendPointsAndCellToList(pyramids,\"pyramid\",points,cells,r)\n",
    "r = R.from_euler('y', 90, degrees=True)\n",
    "appendPointsAndCellToList(pyramids,\"pyramid\",points,cells,r)\n",
    "r = R.from_euler('y', 180, degrees=True)\n",
    "appendPointsAndCellToList(pyramids,\"pyramid\",points,cells,r)\n",
    "r = R.from_euler('y', 270, degrees=True)\n",
    "appendPointsAndCellToList(pyramids,\"pyramid\",points,cells,r)\n",
    "r = R.from_euler('z', 90, degrees=True)\n",
    "appendPointsAndCellToList(pyramids,\"pyramid\",points,cells,r)\n",
    "r = R.from_euler('z', 270, degrees=True)\n",
    "appendPointsAndCellToList(pyramids,\"pyramid\",points,cells,r)"
   ]
  },
  {
   "cell_type": "code",
   "execution_count": 229,
   "id": "8ad23c77",
   "metadata": {},
   "outputs": [],
   "source": [
    "meshio.write_points_cells(\"noHanging.vtu\",points,cells)"
   ]
  },
  {
   "cell_type": "code",
   "execution_count": null,
   "id": "70d498c4",
   "metadata": {},
   "outputs": [],
   "source": []
  }
 ],
 "metadata": {
  "kernelspec": {
   "display_name": "Python 3 (ipykernel)",
   "language": "python",
   "name": "python3"
  },
  "language_info": {
   "codemirror_mode": {
    "name": "ipython",
    "version": 3
   },
   "file_extension": ".py",
   "mimetype": "text/x-python",
   "name": "python",
   "nbconvert_exporter": "python",
   "pygments_lexer": "ipython3",
   "version": "3.10.6"
  }
 },
 "nbformat": 4,
 "nbformat_minor": 5
}
