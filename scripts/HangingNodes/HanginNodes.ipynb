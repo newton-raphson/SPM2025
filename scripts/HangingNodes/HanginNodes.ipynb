{
 "cells": [
  {
   "cell_type": "code",
   "execution_count": 1,
   "id": "3dc737b2",
   "metadata": {},
   "outputs": [],
   "source": [
    "import meshio\n",
    "import numpy as np\n",
    "\n",
    "points = np.array([\n",
    "    [1.0, 1.0, 1.0],\n",
    "    [-1.0, 1.0, 1.0],\n",
    "    [-1.0, -1.0, 1.0],\n",
    "    [1.0, -1.0, 1.0],\n",
    "    [0.0, 0.0, 0.0]\n",
    "    ])\n",
    "\n",
    "# float p0[3] = {1.0, 1.0, 1.0};\n",
    "#   float p1[3] = {-1.0, 1.0, 1.0};\n",
    "#   float p2[3] = {-1.0, -1.0, 1.0};\n",
    "#   float p3[3] = {1.0, -1.0, 1.0};\n",
    "#   float p4[3] = {0.0, 0.0, 0.0};\n",
    "cells = {\n",
    "    \"pyramid\": np.array([\n",
    "        [0, 1, 2,3,4]\n",
    "        ])\n",
    "    }\n",
    "meshio.write_points_cells(\n",
    "    \"foo.vtu\",\n",
    "    points,\n",
    "    cells,\n",
    "    # Optionally provide extra data on points, cells, etc.\n",
    "    # point_data=point_data,\n",
    "    # cell_data=cell_data,\n",
    "    # field_data=field_data\n",
    "    )"
   ]
  },
  {
   "cell_type": "code",
   "execution_count": 2,
   "id": "62360b3f",
   "metadata": {},
   "outputs": [],
   "source": [
    "def writeToFile(filename:str,pointsList,cellList):\n",
    "    pFlat = []\n",
    "    for points in pointsList:\n",
    "        for p in points:\n",
    "            pFlat.append(p)\n",
    "    \n",
    "        \n",
    "    meshio.write_points_cells(filename,pFlat,cells,\n",
    "    # Optionally provide extra data on points, cells, etc.\n",
    "    # point_data=point_data,\n",
    "    # cell_data=cell_data,\n",
    "    # field_data=field_data\n",
    "    )"
   ]
  },
  {
   "cell_type": "code",
   "execution_count": 3,
   "id": "9fd795e1",
   "metadata": {},
   "outputs": [],
   "source": [
    "def create_equal_refined_mesh():\n",
    "\n",
    "    points = np.array([\n",
    "        [0.0,0.0,0.0],\n",
    "        [1.0,0.0,0.0],\n",
    "        [1.0,1.0,0.0],\n",
    "        [0.0,1.0,0.0],\n",
    "        [0.0,0.0,1.0],\n",
    "        [1.0,0.0,1.0],\n",
    "        [1.0,1.0,1.0],\n",
    "        [0.0,1.0,1.0],\n",
    "        ])\n",
    "    \n",
    "    disp = [-1,0,1]\n",
    "    pointList = []\n",
    "    for x in range(3):\n",
    "        for y in range(3):\n",
    "            for z in range(3):\n",
    "                points_new = points + [disp[x],disp[y],disp[z]]\n",
    "                pointList.append(points_new.copy())\n",
    "                        \n",
    "    cells = []\n",
    "    arr = np.array((0,1,2,3,4,5,6,7))\n",
    "    for i in range(27):\n",
    "        cells.append(tuple([\"hexahedron\",[list(arr+i*8)]]))\n",
    "\n",
    "    return pointList,cells"
   ]
  },
  {
   "cell_type": "code",
   "execution_count": 4,
   "id": "5b0fb267",
   "metadata": {},
   "outputs": [],
   "source": [
    "pointList,cells = create_equal_refined_mesh()\n",
    "writeToFile(\"unifrom.vtu\",pointList,cells)"
   ]
  },
  {
   "cell_type": "code",
   "execution_count": 5,
   "id": "a945f53c",
   "metadata": {},
   "outputs": [],
   "source": [
    "points = np.array([\n",
    "        [0.0,0.0,0.0],\n",
    "        [1.0,0.0,0.0],\n",
    "        [1.0,1.0,0.0],\n",
    "        [0.0,1.0,0.0],\n",
    "        [0.0,0.0,1.0],\n",
    "        [1.0,0.0,1.0],\n",
    "        [1.0,1.0,1.0],\n",
    "        [0.0,1.0,1.0],\n",
    "        ])\n",
    "    "
   ]
  },
  {
   "cell_type": "code",
   "execution_count": 6,
   "id": "a84add4e",
   "metadata": {},
   "outputs": [
    {
     "data": {
      "text/plain": [
       "array([[0., 0., 0.],\n",
       "       [1., 0., 0.],\n",
       "       [1., 1., 0.],\n",
       "       [0., 1., 0.],\n",
       "       [0., 0., 1.],\n",
       "       [1., 0., 1.],\n",
       "       [1., 1., 1.],\n",
       "       [0., 1., 1.]])"
      ]
     },
     "execution_count": 6,
     "metadata": {},
     "output_type": "execute_result"
    }
   ],
   "source": [
    "points"
   ]
  },
  {
   "cell_type": "code",
   "execution_count": 7,
   "id": "6898a552",
   "metadata": {},
   "outputs": [],
   "source": [
    "p = []\n",
    "p.append(points)\n",
    "p.append(points)"
   ]
  },
  {
   "cell_type": "code",
   "execution_count": 9,
   "id": "3b71b71b",
   "metadata": {},
   "outputs": [
    {
     "data": {
      "text/plain": [
       "array([[0., 0., 0.],\n",
       "       [1., 0., 0.],\n",
       "       [1., 1., 0.],\n",
       "       [0., 1., 0.],\n",
       "       [0., 0., 1.],\n",
       "       [1., 0., 1.],\n",
       "       [1., 1., 1.],\n",
       "       [0., 1., 1.]])"
      ]
     },
     "execution_count": 9,
     "metadata": {},
     "output_type": "execute_result"
    }
   ],
   "source": [
    "p.pop()"
   ]
  },
  {
   "cell_type": "code",
   "execution_count": 10,
   "id": "df73e8b4",
   "metadata": {},
   "outputs": [
    {
     "data": {
      "text/plain": [
       "[array([[0., 0., 0.],\n",
       "        [1., 0., 0.],\n",
       "        [1., 1., 0.],\n",
       "        [0., 1., 0.],\n",
       "        [0., 0., 1.],\n",
       "        [1., 0., 1.],\n",
       "        [1., 1., 1.],\n",
       "        [0., 1., 1.]])]"
      ]
     },
     "execution_count": 10,
     "metadata": {},
     "output_type": "execute_result"
    }
   ],
   "source": [
    "p"
   ]
  },
  {
   "cell_type": "code",
   "execution_count": null,
   "id": "a860f7db",
   "metadata": {},
   "outputs": [],
   "source": []
  }
 ],
 "metadata": {
  "kernelspec": {
   "display_name": "Python 3 (ipykernel)",
   "language": "python",
   "name": "python3"
  },
  "language_info": {
   "codemirror_mode": {
    "name": "ipython",
    "version": 3
   },
   "file_extension": ".py",
   "mimetype": "text/x-python",
   "name": "python",
   "nbconvert_exporter": "python",
   "pygments_lexer": "ipython3",
   "version": "3.10.6"
  }
 },
 "nbformat": 4,
 "nbformat_minor": 5
}
